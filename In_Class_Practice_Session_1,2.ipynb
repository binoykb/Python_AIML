{
  "nbformat": 4,
  "nbformat_minor": 0,
  "metadata": {
    "colab": {
      "name": "In Class Practice Session - 1,2.ipynb",
      "provenance": []
    },
    "kernelspec": {
      "name": "python3",
      "display_name": "Python 3"
    },
    "language_info": {
      "name": "python"
    }
  },
  "cells": [
    {
      "cell_type": "markdown",
      "metadata": {
        "id": "06BJMETu4iH-"
      },
      "source": [
        "Multiplication Table of 10 (Session 1)"
      ]
    },
    {
      "cell_type": "code",
      "metadata": {
        "colab": {
          "base_uri": "https://localhost:8080/"
        },
        "id": "O4bz8rm54i9Y",
        "outputId": "7efee11f-1def-4143-eeb2-9ad85ddfed00"
      },
      "source": [
        "num = int(input (\"Enter number :\"))\n",
        "\n",
        "for i in range(1, 11):\n",
        "  print( num, \"*\", i, \" = \", num*i)"
      ],
      "execution_count": null,
      "outputs": [
        {
          "output_type": "stream",
          "name": "stdout",
          "text": [
            "Enter number 1 5\n",
            "5 * 1  =  5\n",
            "5 * 2  =  10\n",
            "5 * 3  =  15\n",
            "5 * 4  =  20\n",
            "5 * 5  =  25\n",
            "5 * 6  =  30\n",
            "5 * 7  =  35\n",
            "5 * 8  =  40\n",
            "5 * 9  =  45\n",
            "5 * 10  =  50\n"
          ]
        }
      ]
    },
    {
      "cell_type": "markdown",
      "metadata": {
        "id": "79X1gVgmmzEq"
      },
      "source": [
        "Swap two variables of user's choice (Session 1)"
      ]
    },
    {
      "cell_type": "code",
      "metadata": {
        "colab": {
          "base_uri": "https://localhost:8080/"
        },
        "id": "uPd3wD0Vm9NL",
        "outputId": "05da854e-aa8f-4cc6-ecc2-3ca3fca8b539"
      },
      "source": [
        "a = int(input(\"Enter Variable a - \"))\n",
        "b = int(input(\"Enter variable b - \"))\n",
        "tmp = a\n",
        "a = b\n",
        "b = tmp\n",
        "\n",
        "print(f\"a = {a}\")\n",
        "print(f\"b = {b}\")"
      ],
      "execution_count": 2,
      "outputs": [
        {
          "output_type": "stream",
          "name": "stdout",
          "text": [
            "Enter Variable a - 18\n",
            "Enter variable b - 30\n",
            "a = 30\n",
            "b = 18\n"
          ]
        }
      ]
    },
    {
      "cell_type": "markdown",
      "metadata": {
        "id": "S7MRAjB6noJ0"
      },
      "source": [
        "Swap two varibales without using a third variable (Session 1)"
      ]
    },
    {
      "cell_type": "code",
      "metadata": {
        "colab": {
          "base_uri": "https://localhost:8080/"
        },
        "id": "-NUu40NznvSc",
        "outputId": "f39132f4-a649-4a0f-bba3-92a12927f840"
      },
      "source": [
        "a = int(input(\"Enter Variable a - \"))\n",
        "b = int(input(\"Enter variable b - \"))\n",
        "a = a + b\n",
        "b = a - b\n",
        "a = a - b\n",
        "\n",
        "print(f\"a = {a}\")\n",
        "print(f\"b = {b}\")"
      ],
      "execution_count": 4,
      "outputs": [
        {
          "output_type": "stream",
          "name": "stdout",
          "text": [
            "Enter Variable a - 88\n",
            "Enter variable b - 96\n",
            "a = 96\n",
            "b = 88\n"
          ]
        }
      ]
    },
    {
      "cell_type": "markdown",
      "metadata": {
        "id": "lCvMPMEnoF0K"
      },
      "source": [
        "Swap two varibales without using a third variable, using XOR (Session 1)\n"
      ]
    },
    {
      "cell_type": "code",
      "metadata": {
        "colab": {
          "base_uri": "https://localhost:8080/"
        },
        "id": "gwLC2x6yoOnP",
        "outputId": "adab8c1f-b809-4d21-c39a-65760aafb507"
      },
      "source": [
        "a = int(input(\"Enter Variable a - \"))\n",
        "b = int(input(\"Enter variable b - \"))\n",
        "\n",
        "a = a ^ b\n",
        "b = a ^ b\n",
        "a = a ^ b\n",
        "\n",
        "print(f\"a = {a}\")\n",
        "print(f\"b = {b}\")"
      ],
      "execution_count": 5,
      "outputs": [
        {
          "output_type": "stream",
          "name": "stdout",
          "text": [
            "Enter Variable a - 56\n",
            "Enter variable b - 99\n",
            "a = 99\n",
            "b = 56\n"
          ]
        }
      ]
    },
    {
      "cell_type": "markdown",
      "metadata": {
        "id": "5P_dBTZQpmnM"
      },
      "source": [
        "WAp print to check if the number entered by the user is even or odd (Session 2)"
      ]
    },
    {
      "cell_type": "code",
      "metadata": {
        "colab": {
          "base_uri": "https://localhost:8080/"
        },
        "id": "ZVPVhednp6tQ",
        "outputId": "c297eeac-04e4-4ab6-c41e-6f5cb19b42d6"
      },
      "source": [
        "num = int(input (\"Enter number :\"))\n",
        "if (num%2 == 0):\n",
        "  print (\"Even number\")\n",
        "else:\n",
        "  print (\"Odd number\")"
      ],
      "execution_count": 7,
      "outputs": [
        {
          "output_type": "stream",
          "name": "stdout",
          "text": [
            "Enter number :54\n",
            "Even number\n"
          ]
        }
      ]
    },
    {
      "cell_type": "markdown",
      "metadata": {
        "id": "EOAjv1KdqBdp"
      },
      "source": [
        "WAP using shorthand if else to check which of the number is greater (Session 2)"
      ]
    },
    {
      "cell_type": "code",
      "metadata": {
        "colab": {
          "base_uri": "https://localhost:8080/"
        },
        "id": "G2dFFV7uqQyI",
        "outputId": "502973a3-c5eb-4b8d-a9e6-a9917a4a2132"
      },
      "source": [
        "x = int(input(\"Enter x:\"))\n",
        "y = int(input(\"Enter y:\"))\n",
        "if(x > y):\n",
        "    print(\"x is greater than y\")\n",
        "else:\n",
        "    print(\"y is greater than x\")"
      ],
      "execution_count": 8,
      "outputs": [
        {
          "output_type": "stream",
          "name": "stdout",
          "text": [
            "Enter x:2323\n",
            "Enter y:468\n",
            "x is greater than y\n"
          ]
        }
      ]
    },
    {
      "cell_type": "markdown",
      "metadata": {
        "id": "sr_O9n-HqZlq"
      },
      "source": [
        "A shopkeeper gives a discount of 10% if the cost pf purchased quantity is more than 1000. WAP to as the user for quantity. Considering one unit will cost 100, calculate the total cost to be paid by user (Session 2)"
      ]
    },
    {
      "cell_type": "code",
      "metadata": {
        "colab": {
          "base_uri": "https://localhost:8080/"
        },
        "id": "YyYhf4cnqvrc",
        "outputId": "b5294f58-7cc6-4068-edb7-2cc709279c19"
      },
      "source": [
        "quantity = int(input(\"Quantity :\"))\n",
        "unitCost = 100\n",
        "if (quantity > 1000):\n",
        "  finalCost = unitCost * quantity * .9\n",
        "  print(\"10% discount applied final cost = \", finalCost)\n",
        "else:\n",
        "  finalCost = unitCost * quantity\n",
        "  print(\"Discount not aaplied, Final cost = \", finalCost)"
      ],
      "execution_count": 10,
      "outputs": [
        {
          "output_type": "stream",
          "name": "stdout",
          "text": [
            "Quantity :10000\n",
            "10% discount applied final cost =  900000.0\n"
          ]
        }
      ]
    },
    {
      "cell_type": "markdown",
      "metadata": {
        "id": "l14T_Y4crMH1"
      },
      "source": [
        "(Session 2)\n",
        "A school has the below grading system,\n",
        "a. Below 25 - F\n",
        "b. 25 to 45 - E\n",
        "c. 45 to 50 - D\n",
        "d. 50 to 60 - C\n",
        "e. 60 to 80 - B\n",
        "f. Above 80 - A\n",
        "Ask the user to enter the marks and print the corresponding grade"
      ]
    },
    {
      "cell_type": "code",
      "metadata": {
        "colab": {
          "base_uri": "https://localhost:8080/"
        },
        "id": "654wQZm1r0WU",
        "outputId": "660e8484-813e-4f26-b345-aeb855904cdb"
      },
      "source": [
        "marks = int(input(\"Enter the Marks :\"))\n",
        "if marks >= 80:\n",
        "  print(\"Grade - A\")\n",
        "elif marks >= 60 and marks < 80:\n",
        "  print(\"Grade - B\")\n",
        "elif marks >= 50 and marks < 60:\n",
        "  print(\"Grade - C\")\n",
        "elif marks >= 45 and marks < 50:\n",
        "  print(\"Grade - D\")\n",
        "elif marks >= 25 and marks < 45:\n",
        "  print(\"Grade - E\")\n",
        "elif marks < 25:\n",
        "  print(\"Grade - F\")"
      ],
      "execution_count": 16,
      "outputs": [
        {
          "output_type": "stream",
          "name": "stdout",
          "text": [
            "Enter the Marks :12\n",
            "Grade - F\n"
          ]
        }
      ]
    }
  ]
}