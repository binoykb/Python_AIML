{
  "nbformat": 4,
  "nbformat_minor": 0,
  "metadata": {
    "colab": {
      "name": "In Class Practice Session - 1.ipynb",
      "provenance": []
    },
    "kernelspec": {
      "name": "python3",
      "display_name": "Python 3"
    },
    "language_info": {
      "name": "python"
    }
  },
  "cells": [
    {
      "cell_type": "markdown",
      "metadata": {
        "id": "06BJMETu4iH-"
      },
      "source": [
        "Multiplication Table of 10"
      ]
    },
    {
      "cell_type": "code",
      "metadata": {
        "colab": {
          "base_uri": "https://localhost:8080/"
        },
        "id": "O4bz8rm54i9Y",
        "outputId": "7efee11f-1def-4143-eeb2-9ad85ddfed00"
      },
      "source": [
        "num = int(input (\"Enter number :\"))\n",
        "\n",
        "for i in range(1, 11):\n",
        "  print( num, \"*\", i, \" = \", num*i)"
      ],
      "execution_count": null,
      "outputs": [
        {
          "output_type": "stream",
          "name": "stdout",
          "text": [
            "Enter number 1 5\n",
            "5 * 1  =  5\n",
            "5 * 2  =  10\n",
            "5 * 3  =  15\n",
            "5 * 4  =  20\n",
            "5 * 5  =  25\n",
            "5 * 6  =  30\n",
            "5 * 7  =  35\n",
            "5 * 8  =  40\n",
            "5 * 9  =  45\n",
            "5 * 10  =  50\n"
          ]
        }
      ]
    },
    {
      "cell_type": "markdown",
      "metadata": {
        "id": "79X1gVgmmzEq"
      },
      "source": [
        "Swap two variables of user's choice"
      ]
    },
    {
      "cell_type": "code",
      "metadata": {
        "colab": {
          "base_uri": "https://localhost:8080/"
        },
        "id": "uPd3wD0Vm9NL",
        "outputId": "05da854e-aa8f-4cc6-ecc2-3ca3fca8b539"
      },
      "source": [
        "a = int(input(\"Enter Variable a - \"))\n",
        "b = int(input(\"Enter variable b - \"))\n",
        "tmp = a\n",
        "a = b\n",
        "b = tmp\n",
        "\n",
        "print(f\"a = {a}\")\n",
        "print(f\"b = {b}\")"
      ],
      "execution_count": 2,
      "outputs": [
        {
          "output_type": "stream",
          "name": "stdout",
          "text": [
            "Enter Variable a - 18\n",
            "Enter variable b - 30\n",
            "a = 30\n",
            "b = 18\n"
          ]
        }
      ]
    },
    {
      "cell_type": "markdown",
      "metadata": {
        "id": "S7MRAjB6noJ0"
      },
      "source": [
        "Swap two varibales without using a third variable"
      ]
    },
    {
      "cell_type": "code",
      "metadata": {
        "colab": {
          "base_uri": "https://localhost:8080/"
        },
        "id": "-NUu40NznvSc",
        "outputId": "f39132f4-a649-4a0f-bba3-92a12927f840"
      },
      "source": [
        "a = int(input(\"Enter Variable a - \"))\n",
        "b = int(input(\"Enter variable b - \"))\n",
        "a = a + b\n",
        "b = a - b\n",
        "a = a - b\n",
        "\n",
        "print(f\"a = {a}\")\n",
        "print(f\"b = {b}\")"
      ],
      "execution_count": 4,
      "outputs": [
        {
          "output_type": "stream",
          "name": "stdout",
          "text": [
            "Enter Variable a - 88\n",
            "Enter variable b - 96\n",
            "a = 96\n",
            "b = 88\n"
          ]
        }
      ]
    },
    {
      "cell_type": "markdown",
      "metadata": {
        "id": "lCvMPMEnoF0K"
      },
      "source": [
        "Swap two varibales without using a third variable, using XOR\n"
      ]
    },
    {
      "cell_type": "code",
      "metadata": {
        "colab": {
          "base_uri": "https://localhost:8080/"
        },
        "id": "gwLC2x6yoOnP",
        "outputId": "adab8c1f-b809-4d21-c39a-65760aafb507"
      },
      "source": [
        "a = int(input(\"Enter Variable a - \"))\n",
        "b = int(input(\"Enter variable b - \"))\n",
        "\n",
        "a = a ^ b\n",
        "b = a ^ b\n",
        "a = a ^ b\n",
        "\n",
        "print(f\"a = {a}\")\n",
        "print(f\"b = {b}\")"
      ],
      "execution_count": 5,
      "outputs": [
        {
          "output_type": "stream",
          "name": "stdout",
          "text": [
            "Enter Variable a - 56\n",
            "Enter variable b - 99\n",
            "a = 99\n",
            "b = 56\n"
          ]
        }
      ]
    }
  ]
}