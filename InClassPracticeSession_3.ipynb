{
  "nbformat": 4,
  "nbformat_minor": 0,
  "metadata": {
    "colab": {
      "name": "InClassPracticeSession-3.ipynb",
      "provenance": [],
      "collapsed_sections": []
    },
    "kernelspec": {
      "name": "python3",
      "display_name": "Python 3"
    },
    "language_info": {
      "name": "python"
    }
  },
  "cells": [
    {
      "cell_type": "markdown",
      "metadata": {
        "id": "bOU4FuHFuoPM"
      },
      "source": [
        "Write a program to check if the given number is Pallindrome"
      ]
    },
    {
      "cell_type": "code",
      "metadata": {
        "colab": {
          "base_uri": "https://localhost:8080/"
        },
        "id": "oYwPfwQhuhHD",
        "outputId": "8e7fa775-87d1-43f4-e913-581cc0b6661b"
      },
      "source": [
        "num = int(input(\"Enter the number - \"))\n",
        "if num <= 0:\n",
        "  print(\"Invalid input!!!, enter positive integer\")\n",
        "\n",
        "tmp = num\n",
        "numrev = 0\n",
        "while tmp != 0:\n",
        "  numrev = (numrev * 10) + (tmp % 10)\n",
        "  tmp = int(tmp / 10)\n",
        "\n",
        "if num == numrev:\n",
        "  print(\"Pallindrome.. !\")\n",
        "else:\n",
        "  print(\"Not a Pallindrome.. !\")"
      ],
      "execution_count": 10,
      "outputs": [
        {
          "output_type": "stream",
          "name": "stdout",
          "text": [
            "Enter the number - 78945654987\n",
            "Pallindrome.. !\n"
          ]
        }
      ]
    },
    {
      "cell_type": "markdown",
      "metadata": {
        "id": "1XJzP2VLwkz5"
      },
      "source": [
        "WAP to print the multiplication table of a Given Number"
      ]
    },
    {
      "cell_type": "code",
      "metadata": {
        "colab": {
          "base_uri": "https://localhost:8080/"
        },
        "id": "ZLiHXXtQwv-q",
        "outputId": "e5c7478a-7e80-4c52-b636-b5694fe7c135"
      },
      "source": [
        "num = int(input(\"Enter the Number :\"))\n",
        "\n",
        "for i in range(1, 11):\n",
        "  print(f\"{i} * {num} = {i * num}\")"
      ],
      "execution_count": 14,
      "outputs": [
        {
          "output_type": "stream",
          "name": "stdout",
          "text": [
            "Enter the Number :8\n",
            "1 * 8 = 8\n",
            "2 * 8 = 16\n",
            "3 * 8 = 24\n",
            "4 * 8 = 32\n",
            "5 * 8 = 40\n",
            "6 * 8 = 48\n",
            "7 * 8 = 56\n",
            "8 * 8 = 64\n",
            "9 * 8 = 72\n",
            "10 * 8 = 80\n"
          ]
        }
      ]
    },
    {
      "cell_type": "markdown",
      "metadata": {
        "id": "_XP-6BRExTzR"
      },
      "source": [
        "WAP to take two lists of numbers from the user and create a new list such that it contains odd numbers from the first list and even numbers from the second list"
      ]
    },
    {
      "cell_type": "code",
      "metadata": {
        "colab": {
          "base_uri": "https://localhost:8080/"
        },
        "id": "GFpGBY7BxqpS",
        "outputId": "8ac6947a-4102-47fa-fcd6-6c1108837c17"
      },
      "source": [
        "count = int(input(\"Enter Number of elements in list 1 - \"))\n",
        "list1 = []\n",
        "for i in range(0, count):\n",
        "  list1.append(int(input()))\n",
        "\n",
        "\n",
        "\n",
        "count = int(input(\"Enter Number of elements in list 2 - \"))\n",
        "list2 = []\n",
        "for i in range(0, count):\n",
        "  list2.append(int(input()))\n",
        "\n",
        "\n",
        "output = []\n",
        "\n",
        "for i in list1:\n",
        "    if i%2 == 1:\n",
        "      output.append(i)\n",
        "\n",
        "for i in list2:\n",
        "    if i%2 == 0:\n",
        "      output.append(i)\n",
        "\n",
        "print(\"*******OUTPUT*********\")\n",
        "print(f\"list1 = {list1}\")\n",
        "print(f\"list2 = {list2}\")\n",
        "print(f\"output = {output}\")"
      ],
      "execution_count": 19,
      "outputs": [
        {
          "output_type": "stream",
          "name": "stdout",
          "text": [
            "Enter Number of elements in list 1 - 5\n",
            "8\n",
            "3\n",
            "5\n",
            "2\n",
            "1\n",
            "Enter Number of elements in list 2 - 3\n",
            "8\n",
            "5\n",
            "6\n",
            "*******OUTPUT*********\n",
            "list1 = [8, 3, 5, 2, 1]\n",
            "list2 = [8, 5, 6]\n",
            "output = [3, 5, 1, 8, 6]\n"
          ]
        }
      ]
    },
    {
      "cell_type": "markdown",
      "metadata": {
        "id": "5j5aa4Y8038s"
      },
      "source": [
        "WAP to take two matrix(2x2) input from the user and perform matrix multiplication"
      ]
    },
    {
      "cell_type": "code",
      "metadata": {
        "colab": {
          "base_uri": "https://localhost:8080/"
        },
        "id": "_k-_sx8Y1FNA",
        "outputId": "b450b307-6cbb-400f-d9ec-73db08d55a00"
      },
      "source": [
        "mat1 = []\n",
        "mat2 = []\n",
        "\n",
        "result = [[0, 0],[0, 0]]\n",
        "\n",
        "print(\"Enter matrix1, row-wise\")\n",
        "\n",
        "# Create row for the number of rows\n",
        "for i in range(2):\n",
        "  row = []\n",
        "  # input elements for each rows for the number of columns\n",
        "  for j in range(2):\n",
        "    row.append(int(input()))\n",
        "  #Enter each rows to matrix\n",
        "  mat1.append(row)\n",
        "\n",
        "print(\"Enter matrix2, row-wise\")\n",
        "\n",
        "# Create row for the number of rows\n",
        "for i in range(2):\n",
        "  row = []\n",
        "  # input elements for each rows for the number of columns\n",
        "  for j in range(2):\n",
        "    row.append(int(input()))\n",
        "  #Enter each rows to matrix\n",
        "  mat2.append(row)\n",
        "\n",
        "\n",
        "\n",
        "for i in range(2):\n",
        "  for j in range(2):\n",
        "    for k in range(2):\n",
        "      result[i][j] += mat1[i][k] * mat2[k][j]\n",
        "\n",
        "print(f\"matrix1 = {mat1}\")\n",
        "print(f\"matrix2 = {mat2}\")\n",
        "print(f\"Result = {result}\")"
      ],
      "execution_count": 30,
      "outputs": [
        {
          "output_type": "stream",
          "name": "stdout",
          "text": [
            "Enter matrix1, row-wise\n",
            "1\n",
            "2\n",
            "3\n",
            "4\n",
            "Enter matrix2, row-wise\n",
            "4\n",
            "3\n",
            "2\n",
            "11\n",
            "matrix1 = [[1, 2], [3, 4]]\n",
            "matrix2 = [[4, 3], [2, 11]]\n",
            "Result = [[8, 25], [20, 53]]\n"
          ]
        }
      ]
    }
  ]
}