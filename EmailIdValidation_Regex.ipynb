{
  "nbformat": 4,
  "nbformat_minor": 0,
  "metadata": {
    "colab": {
      "name": "EmailIdValidation-Regex.ipynb",
      "provenance": [],
      "collapsed_sections": []
    },
    "kernelspec": {
      "name": "python3",
      "display_name": "Python 3"
    },
    "language_info": {
      "name": "python"
    }
  },
  "cells": [
    {
      "cell_type": "markdown",
      "metadata": {
        "id": "EEwqmLNw9rsz"
      },
      "source": [
        "WAP to Check the Validity of an email Address"
      ]
    },
    {
      "cell_type": "code",
      "metadata": {
        "colab": {
          "base_uri": "https://localhost:8080/"
        },
        "id": "2v1dHsNY9nn9",
        "outputId": "9b94fd8b-c52f-4105-91d5-89f5bca538b5"
      },
      "source": [
        "import re\n",
        "\n",
        "regEx = \"[a-zA-Z]+[.]*[_0-9a-zA-Z]*@[a-zA-Z]+.[a-zA-Z]\"\n",
        "\n",
        "mailId = input(\"Enter mail id : \")\n",
        "\n",
        "if re.match(regEx, mailId):\n",
        "  print(\"Valid Mail ID\")\n",
        "else:\n",
        "  print(\"Invalid mail ID\")\n"
      ],
      "execution_count": 4,
      "outputs": [
        {
          "output_type": "stream",
          "name": "stdout",
          "text": [
            "Enter mail id : binoy@k.v\n",
            "Valid Mail ID\n"
          ]
        }
      ]
    }
  ]
}